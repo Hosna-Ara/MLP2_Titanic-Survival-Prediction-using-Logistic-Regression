# ---------------------------------------------
# Titanic Survival Prediction using Logistic Regression
# ---------------------------------------------

# 📌 Step 1: Import required libraries
import pandas as pd
import numpy as np
import matplotlib.pyplot as plt
import seaborn as sns

# For ML model and evaluation
from sklearn.model_selection import train_test_split
from sklearn.linear_model import LogisticRegression
from sklearn.metrics import classification_report, confusion_matrix, accuracy_score

# ---------------------------------------------
# 📌 Step 2: Load the dataset
# ---------------------------------------------
# Upload the CSV file to your Google Colab environment before running this cell
# OR replace 'titanic.csv' with the correct path if you're using local Jupyter
df = pd.read_csv('titanic.csv')

# Show the first few rows of the dataset
df.head()

# ---------------------------------------------
# 📌 Step 3: Explore the dataset (EDA)
# ---------------------------------------------
# Check for null values
print("Missing values per column:\n", df.isnull().sum())

# Basic info about the dataset
df.info()

# Visualize survival rate by gender
plt.figure(figsize=(6, 4))
sns.barplot(data=df, x='Sex', y='Survived')
plt.title("Survival Rate by Gender")
plt.show()

# Visualize survival rate by passenger class
plt.figure(figsize=(6, 4))
sns.barplot(data=df, x='Pclass', y='Survived')
plt.title("Survival Rate by Passenger Class")
plt.show()

# Visualize survival rate by age group
df['AgeGroup'] = pd.cut(df['Age'], bins=[0, 12, 18, 60, 80], labels=['Child', 'Teen', 'Adult', 'Senior'])
plt.figure(figsize=(6, 4))
sns.barplot(data=df, x='AgeGroup', y='Survived')
plt.title("Survival Rate by Age Group")
plt.show()


# ---------------------------------------------
# 📌 Step 4: Data Cleaning
# ---------------------------------------------
# Fill missing Age values with median
df['Age'].fillna(df['Age'].median(), inplace=True)

# Fill missing Embarked values with mode
df['Embarked'].fillna(df['Embarked'].mode()[0], inplace=True)

# Drop 'Cabin' due to too many missing values
df.drop('Cabin', axis=1, inplace=True)

# Drop rows with any remaining nulls
df.dropna(inplace=True)


# ---------------------------------------------
# 📌 Step 5: Feature Selection and Encoding
# ---------------------------------------------
# Select relevant features for the model
features = ['Pclass', 'Sex', 'Age', 'SibSp', 'Parch', 'Fare', 'Embarked']
X = df[features]
y = df['Survived']  # Target variable

# One-hot encode categorical variables
X = pd.get_dummies(X, drop_first=True)  # Avoid multicollinearity

# Show final features
X.head()


# ---------------------------------------------
# 📌 Step 6: Split the dataset into training and testing sets
# ---------------------------------------------
X_train, X_test, y_train, y_test = train_test_split(X, y, test_size=0.2, random_state=42)


# ---------------------------------------------
# 📌 Step 7: Train Logistic Regression Model
# ---------------------------------------------
model = LogisticRegression(max_iter=1000)
model.fit(X_train, y_train)


# ---------------------------------------------
# 📌 Step 8: Make Predictions and Evaluate
# ---------------------------------------------
y_pred = model.predict(X_test)

# Print evaluation metrics
print("Confusion Matrix:\n", confusion_matrix(y_test, y_pred))
print("\nClassification Report:\n", classification_report(y_test, y_pred))
print("Accuracy Score:", accuracy_score(y_test, y_pred))



# ---------------------------------------------
# 📌 Step 9: Bonus Visualization - Survival by Gender (for presentation)
# ---------------------------------------------
# Recalculate survival rate by gender
sex_survival = df.groupby('Sex')['Survived'].mean()

# Plot
plt.figure(figsize=(6, 4))
sns.barplot(x=sex_survival.index, y=sex_survival.values, palette='Set2')
plt.title('Survival Rate by Sex')
plt.ylabel('Survival Rate')
plt.ylim(0, 1)

# Annotate bars with percentage values
for i, val in enumerate(sex_survival.values):
    plt.text(i, val + 0.02, f"{val:.2%}", ha='center')

plt.tight_layout()
plt.show()
